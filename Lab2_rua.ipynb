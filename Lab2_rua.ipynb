{
  "nbformat": 4,
  "nbformat_minor": 0,
  "metadata": {
    "colab": {
      "provenance": [],
      "toc_visible": true
    },
    "kernelspec": {
      "name": "python3",
      "display_name": "Python 3"
    },
    "language_info": {
      "name": "python"
    }
  },
  "cells": [
    {
      "cell_type": "code",
      "execution_count": null,
      "metadata": {
        "id": "N394NWjJxlJw"
      },
      "outputs": [],
      "source": []
    },
    {
      "cell_type": "code",
      "source": [
        "from google.colab import drive\n",
        "drive.mount('/content/drive')\n",
        "\n",
        "import pandas as pd\n",
        "\n",
        "path=\"/content/drive/MyDrive/Conjunto de datos/atenciones_abogadas_de_las_mujeres (4).csv\"\n",
        "\n",
        "df= pd.read_csv(path)\n",
        "\n",
        "registros = df.shape[0]\n",
        "print(registros)"
      ],
      "metadata": {
        "colab": {
          "base_uri": "https://localhost:8080/"
        },
        "id": "7IqKjJy0xxs-",
        "outputId": "acd1ac2a-02d8-4164-8d79-c72c269b0e9f"
      },
      "execution_count": 1,
      "outputs": [
        {
          "output_type": "stream",
          "name": "stdout",
          "text": [
            "Drive already mounted at /content/drive; to attempt to forcibly remount, call drive.mount(\"/content/drive\", force_remount=True).\n",
            "121995\n"
          ]
        },
        {
          "output_type": "stream",
          "name": "stderr",
          "text": [
            "<ipython-input-1-c72e804fa0e2>:8: DtypeWarning: Columns (11,16,17,18) have mixed types. Specify dtype option on import or set low_memory=False.\n",
            "  df= pd.read_csv(path)\n"
          ]
        }
      ]
    },
    {
      "cell_type": "markdown",
      "source": [
        "# 2. Hacer uso de la función info"
      ],
      "metadata": {
        "id": "pMeArcHp2T4H"
      }
    },
    {
      "cell_type": "code",
      "source": [
        "# Importar libreria pandas\n",
        "import pandas as pd\n",
        "\n",
        "# Obtener url de archivo csv\n",
        "path =\"/content/drive/MyDrive/Conjunto de datos/atenciones_abogadas_de_las_mujeres (4).csv\"\n",
        "\n",
        "# Leer el CSV\n",
        "df = pd.read_csv(path)\n",
        "\n",
        "df.info()\n"
      ],
      "metadata": {
        "colab": {
          "base_uri": "https://localhost:8080/"
        },
        "id": "hszuY6hq2Zig",
        "outputId": "81edc37c-7d4c-4fbc-e9c7-771c02c1091d"
      },
      "execution_count": 12,
      "outputs": [
        {
          "output_type": "stream",
          "name": "stderr",
          "text": [
            "<ipython-input-12-25ec39ac289d>:8: DtypeWarning: Columns (11,16,17,18) have mixed types. Specify dtype option on import or set low_memory=False.\n",
            "  df = pd.read_csv(path)\n"
          ]
        },
        {
          "output_type": "stream",
          "name": "stdout",
          "text": [
            "<class 'pandas.core.frame.DataFrame'>\n",
            "RangeIndex: 121995 entries, 0 to 121994\n",
            "Data columns (total 28 columns):\n",
            " #   Column                      Non-Null Count   Dtype  \n",
            "---  ------                      --------------   -----  \n",
            " 0   fecha                       121995 non-null  object \n",
            " 1   agencia                     120918 non-null  object \n",
            " 2   usuaria_sexo                121591 non-null  object \n",
            " 3   usuaria_nacionalidad        121641 non-null  object \n",
            " 4   usuaria_ent_fed_nacimiento  119967 non-null  object \n",
            " 5   usuaria_estado_civil        88051 non-null   object \n",
            " 6   usuaria_edad                120005 non-null  float64\n",
            " 7   usuaria_hijas               108979 non-null  float64\n",
            " 8   usuaria_hijos               102770 non-null  float64\n",
            " 9   usuaria_hijes               108646 non-null  float64\n",
            " 10  relacion_con_agresora       73933 non-null   object \n",
            " 11  agresora_ocupacion          42172 non-null   object \n",
            " 12  ci_iniciada                 99815 non-null   object \n",
            " 13  delito                      42187 non-null   object \n",
            " 14  representacion              116772 non-null  object \n",
            " 15  violencia_modalidad         107400 non-null  object \n",
            " 16  solicitud_medidas           40349 non-null   object \n",
            " 17  alto_riesgo                 52963 non-null   object \n",
            " 18  riesgo_feminicida           54000 non-null   object \n",
            " 19  vio_psicoemocional          121995 non-null  object \n",
            " 20  vio_fisica                  121995 non-null  object \n",
            " 21  vio_economica               121995 non-null  object \n",
            " 22  vio_patrimonial             121995 non-null  object \n",
            " 23  vio_sexual                  121995 non-null  object \n",
            " 24  vio_simbolica               121995 non-null  object \n",
            " 25  vio_obstetrica              121995 non-null  object \n",
            " 26  vio_reproductivos           121995 non-null  object \n",
            " 27  vio_feminicida              121995 non-null  object \n",
            "dtypes: float64(4), object(24)\n",
            "memory usage: 26.1+ MB\n"
          ]
        }
      ]
    },
    {
      "cell_type": "markdown",
      "source": [
        "# 3. Hacer uso de la función tail()"
      ],
      "metadata": {
        "id": "pkcMJ9c1342O"
      }
    },
    {
      "cell_type": "code",
      "source": [
        "# Importar libreria pandas\n",
        "import pandas as pd\n",
        "\n",
        "# Obtener el url del archivo csv\n",
        "path =\"/content/drive/MyDrive/Conjunto de datos/atenciones_abogadas_de_las_mujeres (4).csv\"\n",
        "\n",
        "# Leer el CSV\n",
        "df = pd.read_csv(path)\n",
        "\n",
        "df.tail(1)"
      ],
      "metadata": {
        "colab": {
          "base_uri": "https://localhost:8080/",
          "height": 182
        },
        "id": "mJDw-2-p39hD",
        "outputId": "ceb2b267-cc17-48f4-b680-f3ba473517fe"
      },
      "execution_count": 11,
      "outputs": [
        {
          "output_type": "stream",
          "name": "stderr",
          "text": [
            "<ipython-input-11-a01052b9e82e>:8: DtypeWarning: Columns (11,16,17,18) have mixed types. Specify dtype option on import or set low_memory=False.\n",
            "  df = pd.read_csv(path)\n"
          ]
        },
        {
          "output_type": "execute_result",
          "data": {
            "text/plain": [
              "             fecha agencia usuaria_sexo usuaria_nacionalidad  \\\n",
              "121994  2022-03-01   COY-5        MUJER             MEXICANA   \n",
              "\n",
              "             usuaria_ent_fed_nacimiento usuaria_estado_civil  usuaria_edad  \\\n",
              "121994  VERACRUZ DE IGNACIO DE LA LLAVE           SOLTERA(O)          31.0   \n",
              "\n",
              "        usuaria_hijas  usuaria_hijos  usuaria_hijes  ... riesgo_feminicida  \\\n",
              "121994            0.0            0.0            0.0  ...                NO   \n",
              "\n",
              "       vio_psicoemocional vio_fisica vio_economica vio_patrimonial vio_sexual  \\\n",
              "121994                 Sí         Sí            No              Sí         No   \n",
              "\n",
              "       vio_simbolica vio_obstetrica vio_reproductivos vio_feminicida  \n",
              "121994            No             No                No             No  \n",
              "\n",
              "[1 rows x 28 columns]"
            ],
            "text/html": [
              "\n",
              "  <div id=\"df-df0af610-dfd0-4b8b-84b2-29d6986cc820\" class=\"colab-df-container\">\n",
              "    <div>\n",
              "<style scoped>\n",
              "    .dataframe tbody tr th:only-of-type {\n",
              "        vertical-align: middle;\n",
              "    }\n",
              "\n",
              "    .dataframe tbody tr th {\n",
              "        vertical-align: top;\n",
              "    }\n",
              "\n",
              "    .dataframe thead th {\n",
              "        text-align: right;\n",
              "    }\n",
              "</style>\n",
              "<table border=\"1\" class=\"dataframe\">\n",
              "  <thead>\n",
              "    <tr style=\"text-align: right;\">\n",
              "      <th></th>\n",
              "      <th>fecha</th>\n",
              "      <th>agencia</th>\n",
              "      <th>usuaria_sexo</th>\n",
              "      <th>usuaria_nacionalidad</th>\n",
              "      <th>usuaria_ent_fed_nacimiento</th>\n",
              "      <th>usuaria_estado_civil</th>\n",
              "      <th>usuaria_edad</th>\n",
              "      <th>usuaria_hijas</th>\n",
              "      <th>usuaria_hijos</th>\n",
              "      <th>usuaria_hijes</th>\n",
              "      <th>...</th>\n",
              "      <th>riesgo_feminicida</th>\n",
              "      <th>vio_psicoemocional</th>\n",
              "      <th>vio_fisica</th>\n",
              "      <th>vio_economica</th>\n",
              "      <th>vio_patrimonial</th>\n",
              "      <th>vio_sexual</th>\n",
              "      <th>vio_simbolica</th>\n",
              "      <th>vio_obstetrica</th>\n",
              "      <th>vio_reproductivos</th>\n",
              "      <th>vio_feminicida</th>\n",
              "    </tr>\n",
              "  </thead>\n",
              "  <tbody>\n",
              "    <tr>\n",
              "      <th>121994</th>\n",
              "      <td>2022-03-01</td>\n",
              "      <td>COY-5</td>\n",
              "      <td>MUJER</td>\n",
              "      <td>MEXICANA</td>\n",
              "      <td>VERACRUZ DE IGNACIO DE LA LLAVE</td>\n",
              "      <td>SOLTERA(O)</td>\n",
              "      <td>31.0</td>\n",
              "      <td>0.0</td>\n",
              "      <td>0.0</td>\n",
              "      <td>0.0</td>\n",
              "      <td>...</td>\n",
              "      <td>NO</td>\n",
              "      <td>Sí</td>\n",
              "      <td>Sí</td>\n",
              "      <td>No</td>\n",
              "      <td>Sí</td>\n",
              "      <td>No</td>\n",
              "      <td>No</td>\n",
              "      <td>No</td>\n",
              "      <td>No</td>\n",
              "      <td>No</td>\n",
              "    </tr>\n",
              "  </tbody>\n",
              "</table>\n",
              "<p>1 rows × 28 columns</p>\n",
              "</div>\n",
              "    <div class=\"colab-df-buttons\">\n",
              "\n",
              "  <div class=\"colab-df-container\">\n",
              "    <button class=\"colab-df-convert\" onclick=\"convertToInteractive('df-df0af610-dfd0-4b8b-84b2-29d6986cc820')\"\n",
              "            title=\"Convert this dataframe to an interactive table.\"\n",
              "            style=\"display:none;\">\n",
              "\n",
              "  <svg xmlns=\"http://www.w3.org/2000/svg\" height=\"24px\" viewBox=\"0 -960 960 960\">\n",
              "    <path d=\"M120-120v-720h720v720H120Zm60-500h600v-160H180v160Zm220 220h160v-160H400v160Zm0 220h160v-160H400v160ZM180-400h160v-160H180v160Zm440 0h160v-160H620v160ZM180-180h160v-160H180v160Zm440 0h160v-160H620v160Z\"/>\n",
              "  </svg>\n",
              "    </button>\n",
              "\n",
              "  <style>\n",
              "    .colab-df-container {\n",
              "      display:flex;\n",
              "      gap: 12px;\n",
              "    }\n",
              "\n",
              "    .colab-df-convert {\n",
              "      background-color: #E8F0FE;\n",
              "      border: none;\n",
              "      border-radius: 50%;\n",
              "      cursor: pointer;\n",
              "      display: none;\n",
              "      fill: #1967D2;\n",
              "      height: 32px;\n",
              "      padding: 0 0 0 0;\n",
              "      width: 32px;\n",
              "    }\n",
              "\n",
              "    .colab-df-convert:hover {\n",
              "      background-color: #E2EBFA;\n",
              "      box-shadow: 0px 1px 2px rgba(60, 64, 67, 0.3), 0px 1px 3px 1px rgba(60, 64, 67, 0.15);\n",
              "      fill: #174EA6;\n",
              "    }\n",
              "\n",
              "    .colab-df-buttons div {\n",
              "      margin-bottom: 4px;\n",
              "    }\n",
              "\n",
              "    [theme=dark] .colab-df-convert {\n",
              "      background-color: #3B4455;\n",
              "      fill: #D2E3FC;\n",
              "    }\n",
              "\n",
              "    [theme=dark] .colab-df-convert:hover {\n",
              "      background-color: #434B5C;\n",
              "      box-shadow: 0px 1px 3px 1px rgba(0, 0, 0, 0.15);\n",
              "      filter: drop-shadow(0px 1px 2px rgba(0, 0, 0, 0.3));\n",
              "      fill: #FFFFFF;\n",
              "    }\n",
              "  </style>\n",
              "\n",
              "    <script>\n",
              "      const buttonEl =\n",
              "        document.querySelector('#df-df0af610-dfd0-4b8b-84b2-29d6986cc820 button.colab-df-convert');\n",
              "      buttonEl.style.display =\n",
              "        google.colab.kernel.accessAllowed ? 'block' : 'none';\n",
              "\n",
              "      async function convertToInteractive(key) {\n",
              "        const element = document.querySelector('#df-df0af610-dfd0-4b8b-84b2-29d6986cc820');\n",
              "        const dataTable =\n",
              "          await google.colab.kernel.invokeFunction('convertToInteractive',\n",
              "                                                    [key], {});\n",
              "        if (!dataTable) return;\n",
              "\n",
              "        const docLinkHtml = 'Like what you see? Visit the ' +\n",
              "          '<a target=\"_blank\" href=https://colab.research.google.com/notebooks/data_table.ipynb>data table notebook</a>'\n",
              "          + ' to learn more about interactive tables.';\n",
              "        element.innerHTML = '';\n",
              "        dataTable['output_type'] = 'display_data';\n",
              "        await google.colab.output.renderOutput(dataTable, element);\n",
              "        const docLink = document.createElement('div');\n",
              "        docLink.innerHTML = docLinkHtml;\n",
              "        element.appendChild(docLink);\n",
              "      }\n",
              "    </script>\n",
              "  </div>\n",
              "\n",
              "    </div>\n",
              "  </div>\n"
            ]
          },
          "metadata": {},
          "execution_count": 11
        }
      ]
    },
    {
      "cell_type": "markdown",
      "source": [
        "# 4. Obtener el rango de fechas"
      ],
      "metadata": {
        "id": "QuW_PJkx43lB"
      }
    },
    {
      "cell_type": "code",
      "source": [
        "# Importar libreria pandas\n",
        "import pandas as pd\n",
        "\n",
        "# Obtener el url del archivo csv\n",
        "path =\"/content/drive/MyDrive/Conjunto de datos/atenciones_abogadas_de_las_mujeres (4).csv\"\n",
        "\n",
        "# Leer el CSV\"\n",
        "df = pd.read_csv(path)\n",
        "\n",
        "# Dar formato de fecha\n",
        "df[\"fecha\"] = pd.to_datetime(df[\"fecha\"], format=\"%Y-%m-%d\")\n",
        "\n",
        "# Obtener el rango de fecha minimo\n",
        "fecha_inicial = df[\"fecha\"].min()\n",
        "print(fecha_inicial)\n",
        "# Obtener el rango de fecha maximo\n",
        "fecha_final = df[\"fecha\"].max()\n",
        "print(fecha_final )\n",
        "# Imprimir rango de fecha\n",
        "print(f\"El rango de fecha es del {fecha_inicial} al {fecha_final} \")"
      ],
      "metadata": {
        "colab": {
          "base_uri": "https://localhost:8080/"
        },
        "id": "5-m3HJYc48gc",
        "outputId": "60e5f002-c5a5-4bee-e6b7-36335d85121f"
      },
      "execution_count": 26,
      "outputs": [
        {
          "output_type": "stream",
          "name": "stdout",
          "text": [
            "2019-03-01 00:00:00\n",
            "2022-03-01 00:00:00\n",
            "El rango de fecha es del 2019-03-01 00:00:00 al 2022-03-01 00:00:00 \n"
          ]
        },
        {
          "output_type": "stream",
          "name": "stderr",
          "text": [
            "<ipython-input-26-fc2220db72fb>:8: DtypeWarning: Columns (11,16,17,18) have mixed types. Specify dtype option on import or set low_memory=False.\n",
            "  df = pd.read_csv(path)\n"
          ]
        }
      ]
    },
    {
      "cell_type": "markdown",
      "source": [
        "# 5. Obtener la media aritmética"
      ],
      "metadata": {
        "id": "ERy8X4VV77bH"
      }
    },
    {
      "cell_type": "code",
      "source": [
        "# Importar libreria pandas Y matplotlib\n",
        "import pandas as pd\n",
        "import matplotlib.pyplot as plt\n",
        "\n",
        "# Obtener el url del archivo csv\n",
        "path =\"/content/drive/MyDrive/Conjunto de datos/atenciones_abogadas_de_las_mujeres (4).csv\"\n",
        "\n",
        "# Leer el CSV\"\n",
        "df = pd.read_csv(path)\n",
        "\n",
        "# Obtener la media\n",
        "media = df[\"usuaria_edad\"].mean()\n",
        "\n",
        "# Imprimir la media\n",
        "print(media)\n"
      ],
      "metadata": {
        "colab": {
          "base_uri": "https://localhost:8080/"
        },
        "id": "2hoNdnIq7_zB",
        "outputId": "f15ac565-0ebb-4da2-b19e-95a63cb34d6d"
      },
      "execution_count": 20,
      "outputs": [
        {
          "output_type": "stream",
          "name": "stdout",
          "text": [
            "38.38658389233782\n"
          ]
        },
        {
          "output_type": "stream",
          "name": "stderr",
          "text": [
            "<ipython-input-20-4140e54be64a>:9: DtypeWarning: Columns (11,16,17,18) have mixed types. Specify dtype option on import or set low_memory=False.\n",
            "  df = pd.read_csv(path)\n"
          ]
        }
      ]
    },
    {
      "cell_type": "markdown",
      "source": [
        "# 6. Obtener la moda"
      ],
      "metadata": {
        "id": "lHMboo9g82zD"
      }
    },
    {
      "cell_type": "code",
      "source": [
        "# Importar libreria pandas Y matplotlib\n",
        "import pandas as pd\n",
        "import matplotlib.pyplot as plt\n",
        "\n",
        "# Obtener el url del archivo csv\n",
        "path =\"/content/drive/MyDrive/Conjunto de datos/atenciones_abogadas_de_las_mujeres (4).csv\"\n",
        "\n",
        "# Leer el CSV\"\n",
        "df = pd.read_csv(path)\n",
        "\n",
        "# Obtener la moda\n",
        "moda = df[\"usuaria_edad\"].mode()\n",
        "\n",
        "# Imprimir la moda\n",
        "print(moda)"
      ],
      "metadata": {
        "colab": {
          "base_uri": "https://localhost:8080/"
        },
        "id": "mfhL4Nuf85r2",
        "outputId": "81877fc7-3eba-451a-8176-f75e932f1278"
      },
      "execution_count": 21,
      "outputs": [
        {
          "output_type": "stream",
          "name": "stdout",
          "text": [
            "0    30.0\n",
            "Name: usuaria_edad, dtype: float64\n"
          ]
        },
        {
          "output_type": "stream",
          "name": "stderr",
          "text": [
            "<ipython-input-21-30118e7b502f>:9: DtypeWarning: Columns (11,16,17,18) have mixed types. Specify dtype option on import or set low_memory=False.\n",
            "  df = pd.read_csv(path)\n"
          ]
        }
      ]
    }
  ]
}